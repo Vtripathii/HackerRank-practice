{
 "cells": [
  {
   "cell_type": "code",
   "execution_count": 3,
   "metadata": {},
   "outputs": [
    {
     "name": "stdout",
     "output_type": "stream",
     "text": [
      "2\n",
      "5\n",
      "0 2 3 0 6\n",
      "First\n",
      "\n",
      "4\n",
      "0 0 0 0\n",
      "Second\n",
      "\n"
     ]
    }
   ],
   "source": [
    "#!/bin/python3\n",
    "\n",
    "import math\n",
    "import os\n",
    "import random\n",
    "import re\n",
    "import sys\n",
    "\n",
    "from functools import reduce\n",
    "\n",
    "def nimbleGame(s):\n",
    "    a=[]\n",
    "    for i in range(n):\n",
    "        a+=[i]*(s[i]%2)\n",
    "    if a==[]:\n",
    "        return 'Second'\n",
    "    else:\n",
    "        return 'First' if reduce((lambda x,y:x^y),a) else 'Second'\n",
    "\n",
    "if __name__ == '__main__':\n",
    "\n",
    "    t = int(input())\n",
    "\n",
    "    for t_itr in range(t):\n",
    "        n = int(input())\n",
    "\n",
    "        s = list(map(int, input().rstrip().split()))\n",
    "\n",
    "        result = nimbleGame(s)\n",
    "\n",
    "        print(result + '\\n')\n",
    "\n",
    "    "
   ]
  },
  {
   "cell_type": "code",
   "execution_count": null,
   "metadata": {},
   "outputs": [],
   "source": []
  }
 ],
 "metadata": {
  "kernelspec": {
   "display_name": "Python 3",
   "language": "python",
   "name": "python3"
  },
  "language_info": {
   "codemirror_mode": {
    "name": "ipython",
    "version": 3
   },
   "file_extension": ".py",
   "mimetype": "text/x-python",
   "name": "python",
   "nbconvert_exporter": "python",
   "pygments_lexer": "ipython3",
   "version": "3.7.7"
  }
 },
 "nbformat": 4,
 "nbformat_minor": 4
}
